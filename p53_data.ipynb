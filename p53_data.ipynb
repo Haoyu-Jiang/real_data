{
 "cells": [
  {
   "cell_type": "markdown",
   "id": "c58da59c-c190-4a9f-adf7-fd330f108d96",
   "metadata": {},
   "source": [
    "K9.data file is the new data (2012), dimension = 30k * 5k; K8.data file is the old data (2010), dimension = 16k * 5k. Download it at: https://archive.ics.uci.edu/ml/datasets/p53+Mutants."
   ]
  },
  {
   "cell_type": "markdown",
   "id": "7dc1389e-f8bc-4230-8f8c-03f15baee673",
   "metadata": {},
   "source": [
    "Both data are imbalanced.\n",
    "K9: 30000:151\n",
    "K8: 16000:143"
   ]
  },
  {
   "cell_type": "markdown",
   "id": "878d7192-465e-4a80-b938-c9c1785fb71a",
   "metadata": {},
   "source": [
    "## Data Preprocessing"
   ]
  },
  {
   "cell_type": "markdown",
   "id": "a7dcd702-b997-4b7a-89bf-67b7bc951903",
   "metadata": {},
   "source": [
    "#### Data Cleaning\n",
    "In this part, we dropped observations having missing values, and we extracted the response variable and the explanatory variables."
   ]
  },
  {
   "cell_type": "code",
   "execution_count": 167,
   "id": "6fb70b8f-95ab-41f7-a5a7-1611e4c0e72f",
   "metadata": {},
   "outputs": [],
   "source": [
    "import pandas as pd\n",
    "import numpy as np\n",
    "p53 =  pd.read_csv('K8.data', sep=\",\", header = None, low_memory=False)"
   ]
  },
  {
   "cell_type": "code",
   "execution_count": 168,
   "id": "addf709c-ad00-4eae-a480-bd01b433e381",
   "metadata": {},
   "outputs": [
    {
     "data": {
      "text/plain": [
       "(16772, 5410)"
      ]
     },
     "execution_count": 168,
     "metadata": {},
     "output_type": "execute_result"
    }
   ],
   "source": [
    "p53.shape"
   ]
  },
  {
   "cell_type": "code",
   "execution_count": 169,
   "id": "dfc1cf5c-3cb7-4076-af6a-5f197aeb9f63",
   "metadata": {},
   "outputs": [
    {
     "data": {
      "text/html": [
       "<div>\n",
       "<style scoped>\n",
       "    .dataframe tbody tr th:only-of-type {\n",
       "        vertical-align: middle;\n",
       "    }\n",
       "\n",
       "    .dataframe tbody tr th {\n",
       "        vertical-align: top;\n",
       "    }\n",
       "\n",
       "    .dataframe thead th {\n",
       "        text-align: right;\n",
       "    }\n",
       "</style>\n",
       "<table border=\"1\" class=\"dataframe\">\n",
       "  <thead>\n",
       "    <tr style=\"text-align: right;\">\n",
       "      <th></th>\n",
       "      <th>0</th>\n",
       "      <th>1</th>\n",
       "      <th>2</th>\n",
       "      <th>3</th>\n",
       "      <th>4</th>\n",
       "      <th>5</th>\n",
       "      <th>6</th>\n",
       "      <th>7</th>\n",
       "      <th>8</th>\n",
       "      <th>9</th>\n",
       "      <th>...</th>\n",
       "      <th>5400</th>\n",
       "      <th>5401</th>\n",
       "      <th>5402</th>\n",
       "      <th>5403</th>\n",
       "      <th>5404</th>\n",
       "      <th>5405</th>\n",
       "      <th>5406</th>\n",
       "      <th>5407</th>\n",
       "      <th>5408</th>\n",
       "      <th>5409</th>\n",
       "    </tr>\n",
       "  </thead>\n",
       "  <tbody>\n",
       "    <tr>\n",
       "      <th>0</th>\n",
       "      <td>-0.161</td>\n",
       "      <td>-0.014</td>\n",
       "      <td>0.002</td>\n",
       "      <td>-0.036</td>\n",
       "      <td>-0.033</td>\n",
       "      <td>-0.093</td>\n",
       "      <td>0.025</td>\n",
       "      <td>0.005</td>\n",
       "      <td>0.000</td>\n",
       "      <td>-0.015</td>\n",
       "      <td>...</td>\n",
       "      <td>0.013</td>\n",
       "      <td>0.021</td>\n",
       "      <td>0.02</td>\n",
       "      <td>0.016</td>\n",
       "      <td>-0.011</td>\n",
       "      <td>0.003</td>\n",
       "      <td>0.01</td>\n",
       "      <td>-0.007</td>\n",
       "      <td>inactive</td>\n",
       "      <td>NaN</td>\n",
       "    </tr>\n",
       "    <tr>\n",
       "      <th>1</th>\n",
       "      <td>-0.158</td>\n",
       "      <td>-0.002</td>\n",
       "      <td>-0.012</td>\n",
       "      <td>-0.025</td>\n",
       "      <td>-0.012</td>\n",
       "      <td>-0.106</td>\n",
       "      <td>0.013</td>\n",
       "      <td>0.005</td>\n",
       "      <td>0.000</td>\n",
       "      <td>-0.002</td>\n",
       "      <td>...</td>\n",
       "      <td>-0.008</td>\n",
       "      <td>0.007</td>\n",
       "      <td>0.015</td>\n",
       "      <td>-0.008</td>\n",
       "      <td>-0.011</td>\n",
       "      <td>-0.004</td>\n",
       "      <td>0.013</td>\n",
       "      <td>0.005</td>\n",
       "      <td>inactive</td>\n",
       "      <td>NaN</td>\n",
       "    </tr>\n",
       "    <tr>\n",
       "      <th>2</th>\n",
       "      <td>?</td>\n",
       "      <td>?</td>\n",
       "      <td>?</td>\n",
       "      <td>?</td>\n",
       "      <td>?</td>\n",
       "      <td>?</td>\n",
       "      <td>?</td>\n",
       "      <td>?</td>\n",
       "      <td>?</td>\n",
       "      <td>?</td>\n",
       "      <td>...</td>\n",
       "      <td>?</td>\n",
       "      <td>?</td>\n",
       "      <td>?</td>\n",
       "      <td>?</td>\n",
       "      <td>?</td>\n",
       "      <td>?</td>\n",
       "      <td>?</td>\n",
       "      <td>?</td>\n",
       "      <td>inactive</td>\n",
       "      <td>NaN</td>\n",
       "    </tr>\n",
       "    <tr>\n",
       "      <th>3</th>\n",
       "      <td>-0.169</td>\n",
       "      <td>-0.025</td>\n",
       "      <td>-0.010</td>\n",
       "      <td>-0.041</td>\n",
       "      <td>-0.045</td>\n",
       "      <td>-0.069</td>\n",
       "      <td>0.038</td>\n",
       "      <td>0.014</td>\n",
       "      <td>0.008</td>\n",
       "      <td>-0.014</td>\n",
       "      <td>...</td>\n",
       "      <td>0.01</td>\n",
       "      <td>0.025</td>\n",
       "      <td>0.025</td>\n",
       "      <td>0.021</td>\n",
       "      <td>-0.012</td>\n",
       "      <td>0.006</td>\n",
       "      <td>0.016</td>\n",
       "      <td>-0.018</td>\n",
       "      <td>inactive</td>\n",
       "      <td>NaN</td>\n",
       "    </tr>\n",
       "    <tr>\n",
       "      <th>4</th>\n",
       "      <td>-0.183</td>\n",
       "      <td>-0.051</td>\n",
       "      <td>-0.023</td>\n",
       "      <td>-0.077</td>\n",
       "      <td>-0.092</td>\n",
       "      <td>-0.015</td>\n",
       "      <td>0.071</td>\n",
       "      <td>0.027</td>\n",
       "      <td>0.020</td>\n",
       "      <td>-0.019</td>\n",
       "      <td>...</td>\n",
       "      <td>0.012</td>\n",
       "      <td>0.05</td>\n",
       "      <td>0.038</td>\n",
       "      <td>0.051</td>\n",
       "      <td>-0.015</td>\n",
       "      <td>0.017</td>\n",
       "      <td>0.027</td>\n",
       "      <td>-0.049</td>\n",
       "      <td>inactive</td>\n",
       "      <td>NaN</td>\n",
       "    </tr>\n",
       "    <tr>\n",
       "      <th>5</th>\n",
       "      <td>-0.154</td>\n",
       "      <td>0.005</td>\n",
       "      <td>-0.011</td>\n",
       "      <td>-0.013</td>\n",
       "      <td>-0.002</td>\n",
       "      <td>-0.115</td>\n",
       "      <td>0.005</td>\n",
       "      <td>0.002</td>\n",
       "      <td>-0.003</td>\n",
       "      <td>0.002</td>\n",
       "      <td>...</td>\n",
       "      <td>0.012</td>\n",
       "      <td>0.009</td>\n",
       "      <td>0.003</td>\n",
       "      <td>-0.001</td>\n",
       "      <td>0.002</td>\n",
       "      <td>-0.006</td>\n",
       "      <td>0.009</td>\n",
       "      <td>0.013</td>\n",
       "      <td>inactive</td>\n",
       "      <td>NaN</td>\n",
       "    </tr>\n",
       "    <tr>\n",
       "      <th>6</th>\n",
       "      <td>-0.150</td>\n",
       "      <td>0.016</td>\n",
       "      <td>-0.014</td>\n",
       "      <td>0.000</td>\n",
       "      <td>0.016</td>\n",
       "      <td>-0.123</td>\n",
       "      <td>-0.004</td>\n",
       "      <td>-0.002</td>\n",
       "      <td>-0.005</td>\n",
       "      <td>0.010</td>\n",
       "      <td>...</td>\n",
       "      <td>-0.033</td>\n",
       "      <td>-0.032</td>\n",
       "      <td>0.029</td>\n",
       "      <td>-0.052</td>\n",
       "      <td>-0.029</td>\n",
       "      <td>-0.006</td>\n",
       "      <td>0.004</td>\n",
       "      <td>0.023</td>\n",
       "      <td>inactive</td>\n",
       "      <td>NaN</td>\n",
       "    </tr>\n",
       "    <tr>\n",
       "      <th>7</th>\n",
       "      <td>-0.158</td>\n",
       "      <td>0.002</td>\n",
       "      <td>-0.019</td>\n",
       "      <td>-0.028</td>\n",
       "      <td>-0.008</td>\n",
       "      <td>-0.101</td>\n",
       "      <td>0.011</td>\n",
       "      <td>0.005</td>\n",
       "      <td>0.001</td>\n",
       "      <td>0.003</td>\n",
       "      <td>...</td>\n",
       "      <td>-0.025</td>\n",
       "      <td>-0.003</td>\n",
       "      <td>0.017</td>\n",
       "      <td>-0.017</td>\n",
       "      <td>-0.009</td>\n",
       "      <td>-0.001</td>\n",
       "      <td>0.017</td>\n",
       "      <td>0.012</td>\n",
       "      <td>inactive</td>\n",
       "      <td>NaN</td>\n",
       "    </tr>\n",
       "    <tr>\n",
       "      <th>8</th>\n",
       "      <td>-0.152</td>\n",
       "      <td>0.009</td>\n",
       "      <td>-0.015</td>\n",
       "      <td>-0.008</td>\n",
       "      <td>0.004</td>\n",
       "      <td>-0.120</td>\n",
       "      <td>-0.002</td>\n",
       "      <td>-0.002</td>\n",
       "      <td>-0.007</td>\n",
       "      <td>0.004</td>\n",
       "      <td>...</td>\n",
       "      <td>-0.009</td>\n",
       "      <td>-0.007</td>\n",
       "      <td>0.009</td>\n",
       "      <td>-0.027</td>\n",
       "      <td>-0.012</td>\n",
       "      <td>-0.009</td>\n",
       "      <td>0.008</td>\n",
       "      <td>0.021</td>\n",
       "      <td>inactive</td>\n",
       "      <td>NaN</td>\n",
       "    </tr>\n",
       "    <tr>\n",
       "      <th>9</th>\n",
       "      <td>-0.172</td>\n",
       "      <td>-0.028</td>\n",
       "      <td>0.003</td>\n",
       "      <td>-0.045</td>\n",
       "      <td>-0.055</td>\n",
       "      <td>-0.078</td>\n",
       "      <td>0.039</td>\n",
       "      <td>0.011</td>\n",
       "      <td>0.006</td>\n",
       "      <td>-0.020</td>\n",
       "      <td>...</td>\n",
       "      <td>0.031</td>\n",
       "      <td>-0.059</td>\n",
       "      <td>0.05</td>\n",
       "      <td>0.01</td>\n",
       "      <td>-0.005</td>\n",
       "      <td>0.137</td>\n",
       "      <td>0.098</td>\n",
       "      <td>-0.015</td>\n",
       "      <td>inactive</td>\n",
       "      <td>NaN</td>\n",
       "    </tr>\n",
       "  </tbody>\n",
       "</table>\n",
       "<p>10 rows × 5410 columns</p>\n",
       "</div>"
      ],
      "text/plain": [
       "     0       1       2       3       4       5       6       7       8     \\\n",
       "0  -0.161  -0.014   0.002  -0.036  -0.033  -0.093   0.025   0.005   0.000   \n",
       "1  -0.158  -0.002  -0.012  -0.025  -0.012  -0.106   0.013   0.005   0.000   \n",
       "2       ?       ?       ?       ?       ?       ?       ?       ?       ?   \n",
       "3  -0.169  -0.025  -0.010  -0.041  -0.045  -0.069   0.038   0.014   0.008   \n",
       "4  -0.183  -0.051  -0.023  -0.077  -0.092  -0.015   0.071   0.027   0.020   \n",
       "5  -0.154   0.005  -0.011  -0.013  -0.002  -0.115   0.005   0.002  -0.003   \n",
       "6  -0.150   0.016  -0.014   0.000   0.016  -0.123  -0.004  -0.002  -0.005   \n",
       "7  -0.158   0.002  -0.019  -0.028  -0.008  -0.101   0.011   0.005   0.001   \n",
       "8  -0.152   0.009  -0.015  -0.008   0.004  -0.120  -0.002  -0.002  -0.007   \n",
       "9  -0.172  -0.028   0.003  -0.045  -0.055  -0.078   0.039   0.011   0.006   \n",
       "\n",
       "     9     ...    5400    5401   5402    5403    5404    5405   5406    5407  \\\n",
       "0  -0.015  ...   0.013   0.021   0.02   0.016  -0.011   0.003   0.01  -0.007   \n",
       "1  -0.002  ...  -0.008   0.007  0.015  -0.008  -0.011  -0.004  0.013   0.005   \n",
       "2       ?  ...       ?       ?      ?       ?       ?       ?      ?       ?   \n",
       "3  -0.014  ...    0.01   0.025  0.025   0.021  -0.012   0.006  0.016  -0.018   \n",
       "4  -0.019  ...   0.012    0.05  0.038   0.051  -0.015   0.017  0.027  -0.049   \n",
       "5   0.002  ...   0.012   0.009  0.003  -0.001   0.002  -0.006  0.009   0.013   \n",
       "6   0.010  ...  -0.033  -0.032  0.029  -0.052  -0.029  -0.006  0.004   0.023   \n",
       "7   0.003  ...  -0.025  -0.003  0.017  -0.017  -0.009  -0.001  0.017   0.012   \n",
       "8   0.004  ...  -0.009  -0.007  0.009  -0.027  -0.012  -0.009  0.008   0.021   \n",
       "9  -0.020  ...   0.031  -0.059   0.05    0.01  -0.005   0.137  0.098  -0.015   \n",
       "\n",
       "       5408 5409  \n",
       "0  inactive  NaN  \n",
       "1  inactive  NaN  \n",
       "2  inactive  NaN  \n",
       "3  inactive  NaN  \n",
       "4  inactive  NaN  \n",
       "5  inactive  NaN  \n",
       "6  inactive  NaN  \n",
       "7  inactive  NaN  \n",
       "8  inactive  NaN  \n",
       "9  inactive  NaN  \n",
       "\n",
       "[10 rows x 5410 columns]"
      ]
     },
     "execution_count": 169,
     "metadata": {},
     "output_type": "execute_result"
    }
   ],
   "source": [
    "p53.head(10)"
   ]
  },
  {
   "cell_type": "code",
   "execution_count": 170,
   "id": "11d119fb-9329-423f-b7f3-127a6642ce13",
   "metadata": {},
   "outputs": [
    {
     "data": {
      "text/plain": [
       "0        inactive\n",
       "1        inactive\n",
       "2        inactive\n",
       "3        inactive\n",
       "4        inactive\n",
       "           ...   \n",
       "16767      active\n",
       "16768      active\n",
       "16769    inactive\n",
       "16770    inactive\n",
       "16771      active\n",
       "Name: 5408, Length: 16772, dtype: object"
      ]
     },
     "execution_count": 170,
     "metadata": {},
     "output_type": "execute_result"
    }
   ],
   "source": [
    "tmp = p53.iloc[:, 5408]\n",
    "tmp"
   ]
  },
  {
   "cell_type": "code",
   "execution_count": 173,
   "id": "d19d5fc8-8d72-4386-b6ff-c7057e7c621c",
   "metadata": {},
   "outputs": [
    {
     "data": {
      "text/plain": [
       "16629"
      ]
     },
     "execution_count": 173,
     "metadata": {},
     "output_type": "execute_result"
    }
   ],
   "source": [
    "(tmp == \"inactive\").sum()"
   ]
  },
  {
   "cell_type": "code",
   "execution_count": 174,
   "id": "666506d3-3f96-43ea-ba8b-c3af896bc57e",
   "metadata": {},
   "outputs": [
    {
     "data": {
      "text/plain": [
       "143"
      ]
     },
     "execution_count": 174,
     "metadata": {},
     "output_type": "execute_result"
    }
   ],
   "source": [
    "(tmp == \"active\").sum()"
   ]
  },
  {
   "cell_type": "code",
   "execution_count": null,
   "id": "cde1d0b5-3b87-4674-a7c3-42c7faad8093",
   "metadata": {},
   "outputs": [],
   "source": []
  },
  {
   "cell_type": "code",
   "execution_count": 175,
   "id": "3748c21f-41cc-4e41-bff7-96fbfe430151",
   "metadata": {},
   "outputs": [],
   "source": [
    "# extract the response variable\n",
    "# y_df = p53[5408]\n",
    "# print(y_df)"
   ]
  },
  {
   "cell_type": "code",
   "execution_count": 176,
   "id": "cdec7995-0d92-486c-bdf1-c5c3f09147f4",
   "metadata": {},
   "outputs": [
    {
     "data": {
      "text/plain": [
       "16772"
      ]
     },
     "execution_count": 176,
     "metadata": {},
     "output_type": "execute_result"
    }
   ],
   "source": [
    "np.isnan(p53[5409]).sum()"
   ]
  },
  {
   "cell_type": "markdown",
   "id": "17c3fa2e-886e-43d4-ac2a-5d9f196639db",
   "metadata": {},
   "source": [
    "Since this column is all NaN, drop it and extract the explanatory variables."
   ]
  },
  {
   "cell_type": "code",
   "execution_count": 177,
   "id": "7078b8e3-ef5a-4b80-b733-43ddc1cb13f1",
   "metadata": {},
   "outputs": [
    {
     "data": {
      "text/html": [
       "<div>\n",
       "<style scoped>\n",
       "    .dataframe tbody tr th:only-of-type {\n",
       "        vertical-align: middle;\n",
       "    }\n",
       "\n",
       "    .dataframe tbody tr th {\n",
       "        vertical-align: top;\n",
       "    }\n",
       "\n",
       "    .dataframe thead th {\n",
       "        text-align: right;\n",
       "    }\n",
       "</style>\n",
       "<table border=\"1\" class=\"dataframe\">\n",
       "  <thead>\n",
       "    <tr style=\"text-align: right;\">\n",
       "      <th></th>\n",
       "      <th>0</th>\n",
       "      <th>1</th>\n",
       "      <th>2</th>\n",
       "      <th>3</th>\n",
       "      <th>4</th>\n",
       "      <th>5</th>\n",
       "      <th>6</th>\n",
       "      <th>7</th>\n",
       "      <th>8</th>\n",
       "      <th>9</th>\n",
       "      <th>...</th>\n",
       "      <th>5399</th>\n",
       "      <th>5400</th>\n",
       "      <th>5401</th>\n",
       "      <th>5402</th>\n",
       "      <th>5403</th>\n",
       "      <th>5404</th>\n",
       "      <th>5405</th>\n",
       "      <th>5406</th>\n",
       "      <th>5407</th>\n",
       "      <th>5408</th>\n",
       "    </tr>\n",
       "  </thead>\n",
       "  <tbody>\n",
       "    <tr>\n",
       "      <th>0</th>\n",
       "      <td>-0.161</td>\n",
       "      <td>-0.014</td>\n",
       "      <td>0.002</td>\n",
       "      <td>-0.036</td>\n",
       "      <td>-0.033</td>\n",
       "      <td>-0.093</td>\n",
       "      <td>0.025</td>\n",
       "      <td>0.005</td>\n",
       "      <td>0.000</td>\n",
       "      <td>-0.015</td>\n",
       "      <td>...</td>\n",
       "      <td>0.006</td>\n",
       "      <td>0.013</td>\n",
       "      <td>0.021</td>\n",
       "      <td>0.02</td>\n",
       "      <td>0.016</td>\n",
       "      <td>-0.011</td>\n",
       "      <td>0.003</td>\n",
       "      <td>0.01</td>\n",
       "      <td>-0.007</td>\n",
       "      <td>inactive</td>\n",
       "    </tr>\n",
       "    <tr>\n",
       "      <th>1</th>\n",
       "      <td>-0.158</td>\n",
       "      <td>-0.002</td>\n",
       "      <td>-0.012</td>\n",
       "      <td>-0.025</td>\n",
       "      <td>-0.012</td>\n",
       "      <td>-0.106</td>\n",
       "      <td>0.013</td>\n",
       "      <td>0.005</td>\n",
       "      <td>0.000</td>\n",
       "      <td>-0.002</td>\n",
       "      <td>...</td>\n",
       "      <td>0.002</td>\n",
       "      <td>-0.008</td>\n",
       "      <td>0.007</td>\n",
       "      <td>0.015</td>\n",
       "      <td>-0.008</td>\n",
       "      <td>-0.011</td>\n",
       "      <td>-0.004</td>\n",
       "      <td>0.013</td>\n",
       "      <td>0.005</td>\n",
       "      <td>inactive</td>\n",
       "    </tr>\n",
       "    <tr>\n",
       "      <th>2</th>\n",
       "      <td>?</td>\n",
       "      <td>?</td>\n",
       "      <td>?</td>\n",
       "      <td>?</td>\n",
       "      <td>?</td>\n",
       "      <td>?</td>\n",
       "      <td>?</td>\n",
       "      <td>?</td>\n",
       "      <td>?</td>\n",
       "      <td>?</td>\n",
       "      <td>...</td>\n",
       "      <td>?</td>\n",
       "      <td>?</td>\n",
       "      <td>?</td>\n",
       "      <td>?</td>\n",
       "      <td>?</td>\n",
       "      <td>?</td>\n",
       "      <td>?</td>\n",
       "      <td>?</td>\n",
       "      <td>?</td>\n",
       "      <td>inactive</td>\n",
       "    </tr>\n",
       "    <tr>\n",
       "      <th>3</th>\n",
       "      <td>-0.169</td>\n",
       "      <td>-0.025</td>\n",
       "      <td>-0.010</td>\n",
       "      <td>-0.041</td>\n",
       "      <td>-0.045</td>\n",
       "      <td>-0.069</td>\n",
       "      <td>0.038</td>\n",
       "      <td>0.014</td>\n",
       "      <td>0.008</td>\n",
       "      <td>-0.014</td>\n",
       "      <td>...</td>\n",
       "      <td>0.019</td>\n",
       "      <td>0.01</td>\n",
       "      <td>0.025</td>\n",
       "      <td>0.025</td>\n",
       "      <td>0.021</td>\n",
       "      <td>-0.012</td>\n",
       "      <td>0.006</td>\n",
       "      <td>0.016</td>\n",
       "      <td>-0.018</td>\n",
       "      <td>inactive</td>\n",
       "    </tr>\n",
       "    <tr>\n",
       "      <th>4</th>\n",
       "      <td>-0.183</td>\n",
       "      <td>-0.051</td>\n",
       "      <td>-0.023</td>\n",
       "      <td>-0.077</td>\n",
       "      <td>-0.092</td>\n",
       "      <td>-0.015</td>\n",
       "      <td>0.071</td>\n",
       "      <td>0.027</td>\n",
       "      <td>0.020</td>\n",
       "      <td>-0.019</td>\n",
       "      <td>...</td>\n",
       "      <td>0.051</td>\n",
       "      <td>0.012</td>\n",
       "      <td>0.05</td>\n",
       "      <td>0.038</td>\n",
       "      <td>0.051</td>\n",
       "      <td>-0.015</td>\n",
       "      <td>0.017</td>\n",
       "      <td>0.027</td>\n",
       "      <td>-0.049</td>\n",
       "      <td>inactive</td>\n",
       "    </tr>\n",
       "    <tr>\n",
       "      <th>...</th>\n",
       "      <td>...</td>\n",
       "      <td>...</td>\n",
       "      <td>...</td>\n",
       "      <td>...</td>\n",
       "      <td>...</td>\n",
       "      <td>...</td>\n",
       "      <td>...</td>\n",
       "      <td>...</td>\n",
       "      <td>...</td>\n",
       "      <td>...</td>\n",
       "      <td>...</td>\n",
       "      <td>...</td>\n",
       "      <td>...</td>\n",
       "      <td>...</td>\n",
       "      <td>...</td>\n",
       "      <td>...</td>\n",
       "      <td>...</td>\n",
       "      <td>...</td>\n",
       "      <td>...</td>\n",
       "      <td>...</td>\n",
       "      <td>...</td>\n",
       "    </tr>\n",
       "    <tr>\n",
       "      <th>16767</th>\n",
       "      <td>-0.175</td>\n",
       "      <td>-0.036</td>\n",
       "      <td>0.005</td>\n",
       "      <td>-0.050</td>\n",
       "      <td>-0.065</td>\n",
       "      <td>-0.041</td>\n",
       "      <td>0.047</td>\n",
       "      <td>0.012</td>\n",
       "      <td>0.003</td>\n",
       "      <td>-0.019</td>\n",
       "      <td>...</td>\n",
       "      <td>0.021</td>\n",
       "      <td>0.028</td>\n",
       "      <td>0.037</td>\n",
       "      <td>0.027</td>\n",
       "      <td>0.039</td>\n",
       "      <td>-0.013</td>\n",
       "      <td>0.013</td>\n",
       "      <td>0.011</td>\n",
       "      <td>-0.026</td>\n",
       "      <td>active</td>\n",
       "    </tr>\n",
       "    <tr>\n",
       "      <th>16768</th>\n",
       "      <td>-0.158</td>\n",
       "      <td>-0.000</td>\n",
       "      <td>-0.015</td>\n",
       "      <td>-0.021</td>\n",
       "      <td>-0.004</td>\n",
       "      <td>-0.106</td>\n",
       "      <td>0.010</td>\n",
       "      <td>0.006</td>\n",
       "      <td>0.001</td>\n",
       "      <td>0.002</td>\n",
       "      <td>...</td>\n",
       "      <td>-0.004</td>\n",
       "      <td>-0.007</td>\n",
       "      <td>0</td>\n",
       "      <td>0.012</td>\n",
       "      <td>-0.016</td>\n",
       "      <td>-0.012</td>\n",
       "      <td>-0.005</td>\n",
       "      <td>0.011</td>\n",
       "      <td>0.01</td>\n",
       "      <td>active</td>\n",
       "    </tr>\n",
       "    <tr>\n",
       "      <th>16769</th>\n",
       "      <td>-0.174</td>\n",
       "      <td>-0.024</td>\n",
       "      <td>0.026</td>\n",
       "      <td>-0.044</td>\n",
       "      <td>-0.061</td>\n",
       "      <td>-0.097</td>\n",
       "      <td>0.049</td>\n",
       "      <td>0.007</td>\n",
       "      <td>0.001</td>\n",
       "      <td>-0.033</td>\n",
       "      <td>...</td>\n",
       "      <td>0.01</td>\n",
       "      <td>0.051</td>\n",
       "      <td>0.043</td>\n",
       "      <td>0.03</td>\n",
       "      <td>0.057</td>\n",
       "      <td>-0.009</td>\n",
       "      <td>0.019</td>\n",
       "      <td>0.005</td>\n",
       "      <td>-0.026</td>\n",
       "      <td>inactive</td>\n",
       "    </tr>\n",
       "    <tr>\n",
       "      <th>16770</th>\n",
       "      <td>-0.184</td>\n",
       "      <td>-0.072</td>\n",
       "      <td>-0.018</td>\n",
       "      <td>-0.091</td>\n",
       "      <td>-0.110</td>\n",
       "      <td>0.020</td>\n",
       "      <td>0.098</td>\n",
       "      <td>0.036</td>\n",
       "      <td>0.028</td>\n",
       "      <td>-0.023</td>\n",
       "      <td>...</td>\n",
       "      <td>0.066</td>\n",
       "      <td>0.027</td>\n",
       "      <td>0.07</td>\n",
       "      <td>0.048</td>\n",
       "      <td>0.078</td>\n",
       "      <td>-0.014</td>\n",
       "      <td>0.022</td>\n",
       "      <td>0.028</td>\n",
       "      <td>-0.067</td>\n",
       "      <td>inactive</td>\n",
       "    </tr>\n",
       "    <tr>\n",
       "      <th>16771</th>\n",
       "      <td>-0.155</td>\n",
       "      <td>0.001</td>\n",
       "      <td>-0.010</td>\n",
       "      <td>-0.018</td>\n",
       "      <td>-0.004</td>\n",
       "      <td>-0.113</td>\n",
       "      <td>0.009</td>\n",
       "      <td>0.004</td>\n",
       "      <td>-0.001</td>\n",
       "      <td>-0.001</td>\n",
       "      <td>...</td>\n",
       "      <td>-0.007</td>\n",
       "      <td>-0.003</td>\n",
       "      <td>0.001</td>\n",
       "      <td>0.012</td>\n",
       "      <td>-0.014</td>\n",
       "      <td>-0.011</td>\n",
       "      <td>-0.005</td>\n",
       "      <td>0.01</td>\n",
       "      <td>0.011</td>\n",
       "      <td>active</td>\n",
       "    </tr>\n",
       "  </tbody>\n",
       "</table>\n",
       "<p>16772 rows × 5409 columns</p>\n",
       "</div>"
      ],
      "text/plain": [
       "         0       1       2       3       4       5      6      7       8     \\\n",
       "0      -0.161  -0.014   0.002  -0.036  -0.033  -0.093  0.025  0.005   0.000   \n",
       "1      -0.158  -0.002  -0.012  -0.025  -0.012  -0.106  0.013  0.005   0.000   \n",
       "2           ?       ?       ?       ?       ?       ?      ?      ?       ?   \n",
       "3      -0.169  -0.025  -0.010  -0.041  -0.045  -0.069  0.038  0.014   0.008   \n",
       "4      -0.183  -0.051  -0.023  -0.077  -0.092  -0.015  0.071  0.027   0.020   \n",
       "...       ...     ...     ...     ...     ...     ...    ...    ...     ...   \n",
       "16767  -0.175  -0.036   0.005  -0.050  -0.065  -0.041  0.047  0.012   0.003   \n",
       "16768  -0.158  -0.000  -0.015  -0.021  -0.004  -0.106  0.010  0.006   0.001   \n",
       "16769  -0.174  -0.024   0.026  -0.044  -0.061  -0.097  0.049  0.007   0.001   \n",
       "16770  -0.184  -0.072  -0.018  -0.091  -0.110   0.020  0.098  0.036   0.028   \n",
       "16771  -0.155   0.001  -0.010  -0.018  -0.004  -0.113  0.009  0.004  -0.001   \n",
       "\n",
       "         9     ...    5399    5400   5401   5402    5403    5404    5405  \\\n",
       "0      -0.015  ...   0.006   0.013  0.021   0.02   0.016  -0.011   0.003   \n",
       "1      -0.002  ...   0.002  -0.008  0.007  0.015  -0.008  -0.011  -0.004   \n",
       "2           ?  ...       ?       ?      ?      ?       ?       ?       ?   \n",
       "3      -0.014  ...   0.019    0.01  0.025  0.025   0.021  -0.012   0.006   \n",
       "4      -0.019  ...   0.051   0.012   0.05  0.038   0.051  -0.015   0.017   \n",
       "...       ...  ...     ...     ...    ...    ...     ...     ...     ...   \n",
       "16767  -0.019  ...   0.021   0.028  0.037  0.027   0.039  -0.013   0.013   \n",
       "16768   0.002  ...  -0.004  -0.007      0  0.012  -0.016  -0.012  -0.005   \n",
       "16769  -0.033  ...    0.01   0.051  0.043   0.03   0.057  -0.009   0.019   \n",
       "16770  -0.023  ...   0.066   0.027   0.07  0.048   0.078  -0.014   0.022   \n",
       "16771  -0.001  ...  -0.007  -0.003  0.001  0.012  -0.014  -0.011  -0.005   \n",
       "\n",
       "        5406    5407      5408  \n",
       "0       0.01  -0.007  inactive  \n",
       "1      0.013   0.005  inactive  \n",
       "2          ?       ?  inactive  \n",
       "3      0.016  -0.018  inactive  \n",
       "4      0.027  -0.049  inactive  \n",
       "...      ...     ...       ...  \n",
       "16767  0.011  -0.026    active  \n",
       "16768  0.011    0.01    active  \n",
       "16769  0.005  -0.026  inactive  \n",
       "16770  0.028  -0.067  inactive  \n",
       "16771   0.01   0.011    active  \n",
       "\n",
       "[16772 rows x 5409 columns]"
      ]
     },
     "execution_count": 177,
     "metadata": {},
     "output_type": "execute_result"
    }
   ],
   "source": [
    "p53 = p53.iloc[:, 0:5409]\n",
    "p53"
   ]
  },
  {
   "cell_type": "code",
   "execution_count": 178,
   "id": "2f0028c9-6d30-4a41-8098-36f31425ee09",
   "metadata": {},
   "outputs": [
    {
     "data": {
      "text/plain": [
       "901854"
      ]
     },
     "execution_count": 178,
     "metadata": {},
     "output_type": "execute_result"
    }
   ],
   "source": [
    "np.array(p53 == \"?\").sum()"
   ]
  },
  {
   "cell_type": "markdown",
   "id": "e9df7c9e-48e8-4ce3-b5ec-6d3e880e926c",
   "metadata": {},
   "source": [
    "Then we drop rows containing \"?\" (missing value):"
   ]
  },
  {
   "cell_type": "code",
   "execution_count": 179,
   "id": "23ae5b87-38fc-4cfb-a24d-685934112b87",
   "metadata": {},
   "outputs": [],
   "source": [
    "p53 = p53.replace('?', np.nan)"
   ]
  },
  {
   "cell_type": "code",
   "execution_count": 180,
   "id": "d315c8d1-a24b-49c0-8665-71a954db51b2",
   "metadata": {},
   "outputs": [],
   "source": [
    "p53 = p53.dropna()"
   ]
  },
  {
   "cell_type": "code",
   "execution_count": 181,
   "id": "740ebfad-96f8-4d6d-ac9e-779c0c04e735",
   "metadata": {},
   "outputs": [
    {
     "data": {
      "text/plain": [
       "(16592, 5409)"
      ]
     },
     "execution_count": 181,
     "metadata": {},
     "output_type": "execute_result"
    }
   ],
   "source": [
    "p53.shape"
   ]
  },
  {
   "cell_type": "markdown",
   "id": "899506d6-6a66-46e0-aef2-0bfb35ac045a",
   "metadata": {},
   "source": [
    "we only dropped 180 observations."
   ]
  },
  {
   "cell_type": "code",
   "execution_count": 187,
   "id": "05c85cd5-dfb0-401b-9eb7-39b3653ea2bb",
   "metadata": {},
   "outputs": [
    {
     "data": {
      "text/plain": [
       "180"
      ]
     },
     "execution_count": 187,
     "metadata": {},
     "output_type": "execute_result"
    }
   ],
   "source": [
    "16772 - 16592"
   ]
  },
  {
   "cell_type": "markdown",
   "id": "642303ae-aac6-4639-b061-59655f5d2edf",
   "metadata": {},
   "source": [
    "Finally, we seperate the explanatory variables and the response variable, and transfer $X$ to a numerical dataframe"
   ]
  },
  {
   "cell_type": "code",
   "execution_count": 188,
   "id": "130b88fa-ee77-42b6-a957-f7b12d2ed524",
   "metadata": {},
   "outputs": [],
   "source": [
    "X_df = p53.iloc[:, 0:5408]\n",
    "y_df = p53.iloc[:, 5408]"
   ]
  },
  {
   "cell_type": "code",
   "execution_count": 194,
   "id": "f466fbc6-185d-412e-8316-73fb6940f8e2",
   "metadata": {},
   "outputs": [
    {
     "data": {
      "text/plain": [
       "16449"
      ]
     },
     "execution_count": 194,
     "metadata": {},
     "output_type": "execute_result"
    }
   ],
   "source": [
    "(y_df == \"inactive\").sum()"
   ]
  },
  {
   "cell_type": "code",
   "execution_count": 195,
   "id": "55a66799-7eeb-4382-9208-2037953cedeb",
   "metadata": {},
   "outputs": [
    {
     "data": {
      "text/plain": [
       "143"
      ]
     },
     "execution_count": 195,
     "metadata": {},
     "output_type": "execute_result"
    }
   ],
   "source": [
    "(y_df == \"active\").sum()"
   ]
  },
  {
   "cell_type": "code",
   "execution_count": 196,
   "id": "aa490de0-c20f-4125-816b-4ca66c2dbd60",
   "metadata": {},
   "outputs": [],
   "source": [
    "X_df = X_df.astype(float)"
   ]
  },
  {
   "cell_type": "code",
   "execution_count": 202,
   "id": "7df25999-e0ff-4c33-9c5f-368d775ccbea",
   "metadata": {},
   "outputs": [],
   "source": [
    "y_df[y_df == \"active\"] = 1\n",
    "y_df[y_df == \"inactive\"] = 0"
   ]
  },
  {
   "cell_type": "code",
   "execution_count": 207,
   "id": "2598a692-d0b3-4382-ba8a-8b50fe9460ea",
   "metadata": {},
   "outputs": [],
   "source": [
    "y_df = y_df.astype(float)"
   ]
  },
  {
   "cell_type": "markdown",
   "id": "05bfe7b5-07cb-4de6-bcd9-a8787c1c649f",
   "metadata": {},
   "source": [
    "#### Split training set (80%) and testing set (20%)"
   ]
  },
  {
   "cell_type": "markdown",
   "id": "147f44dd-8059-4171-b123-79002241c9dd",
   "metadata": {},
   "source": [
    "In this part, we randomly split 80:20 training and testing sets. We standardized the training set to have mean $0$ and std $1$, and we also scaled the testing set using the mean and std information of the training set for later use in assessing the predictive performance of the models."
   ]
  },
  {
   "cell_type": "markdown",
   "id": "16952f8f-3c9c-422e-8d00-00990a6714a3",
   "metadata": {},
   "source": [
    "We first split the training and testing datasets."
   ]
  },
  {
   "cell_type": "code",
   "execution_count": 244,
   "id": "da0263d4-bce5-4622-a4da-b88ed13d9f8b",
   "metadata": {},
   "outputs": [],
   "source": [
    "X = X_df.to_numpy(dtype = np.float32)\n",
    "y = y_df.to_numpy(dtype = np.int32)"
   ]
  },
  {
   "cell_type": "code",
   "execution_count": 245,
   "id": "22422199-0625-44d8-b6cf-716b0709206e",
   "metadata": {},
   "outputs": [],
   "source": [
    "from sklearn.model_selection import train_test_split\n",
    "X_train, X_test, y_train, y_test = train_test_split(X, y, test_size = 0.2, random_state = 111)"
   ]
  },
  {
   "cell_type": "code",
   "execution_count": 246,
   "id": "52ec8c22-d98f-4148-a2fc-119bf7428d7e",
   "metadata": {},
   "outputs": [
    {
     "data": {
      "text/plain": [
       "0.20279720279720279"
      ]
     },
     "execution_count": 246,
     "metadata": {},
     "output_type": "execute_result"
    }
   ],
   "source": [
    "y_test.sum() / 143"
   ]
  },
  {
   "cell_type": "code",
   "execution_count": 247,
   "id": "486bb5ee-1077-4f03-8a16-fea058bda882",
   "metadata": {},
   "outputs": [],
   "source": [
    "import matplotlib.pyplot as plt"
   ]
  },
  {
   "cell_type": "markdown",
   "id": "84aba7c2-1d36-4217-9fed-9da2aada9f22",
   "metadata": {},
   "source": [
    "We first draw histograms to visualize the range of all the explanatory variables."
   ]
  },
  {
   "cell_type": "code",
   "execution_count": 248,
   "id": "e10043bd-0b08-4310-90c4-8917eff3e3b7",
   "metadata": {},
   "outputs": [
    {
     "data": {
      "image/png": "[encoded data removed]",
      "text/plain": [
       "<Figure size 640x480 with 2 Axes>"
      ]
     },
     "metadata": {},
     "output_type": "display_data"
    }
   ],
   "source": [
    "plt.subplot(1, 2, 1)\n",
    "plt.hist(X_df.max())\n",
    "\n",
    "plt.subplot(1, 2, 2)\n",
    "plt.hist(X_df.min())\n",
    "\n",
    "plt.show()"
   ]
  },
  {
   "cell_type": "markdown",
   "id": "f225df3e-e262-4bc8-8ad3-1d52ff81f428",
   "metadata": {},
   "source": [
    "The ranges of different variables vary a lot, so we need to standardize it."
   ]
  },
  {
   "cell_type": "code",
   "execution_count": 249,
   "id": "18e629f1-4af3-432f-bf29-41f572c42f74",
   "metadata": {},
   "outputs": [],
   "source": [
    "from sklearn import preprocessing\n",
    "scaler = preprocessing.StandardScaler().fit(X_train)\n",
    "X_train = scaler.transform(X_train)\n",
    "X_test = scaler.transform(X_test)"
   ]
  },
  {
   "cell_type": "code",
   "execution_count": 252,
   "id": "61d8f4b7-0f73-47ec-a2e1-98f3a3f2c00b",
   "metadata": {},
   "outputs": [
    {
     "data": {
      "text/plain": [
       "array([ 6.2959174e-08, -2.2817368e-08,  2.2792538e-08, ...,\n",
       "        5.2127682e-08, -7.0263248e-08, -1.2096065e-07], dtype=float32)"
      ]
     },
     "execution_count": 252,
     "metadata": {},
     "output_type": "execute_result"
    }
   ],
   "source": [
    "X_train.mean(axis = 0)"
   ]
  },
  {
   "cell_type": "code",
   "execution_count": 253,
   "id": "da5f50b7-261b-481b-bf4c-c65b52329933",
   "metadata": {},
   "outputs": [
    {
     "data": {
      "text/plain": [
       "array([1.0000067 , 0.99999744, 0.99999225, ..., 0.99998826, 1.0000185 ,\n",
       "       0.99999964], dtype=float32)"
      ]
     },
     "execution_count": 253,
     "metadata": {},
     "output_type": "execute_result"
    }
   ],
   "source": [
    "X_train.std(axis = 0)"
   ]
  },
  {
   "cell_type": "code",
   "execution_count": 258,
   "id": "b64ca87c-2b15-4d44-89a8-53978703c87a",
   "metadata": {},
   "outputs": [],
   "source": [
    "# X_test.mean(axis = 0)"
   ]
  },
  {
   "cell_type": "code",
   "execution_count": 259,
   "id": "a930888b-abc8-4454-aa7f-f3d019613d8a",
   "metadata": {},
   "outputs": [],
   "source": [
    "# X_test.std(axis = 1)"
   ]
  },
  {
   "cell_type": "code",
   "execution_count": 260,
   "id": "43d053a3-2409-4751-8e25-00db6b2a198d",
   "metadata": {},
   "outputs": [],
   "source": [
    "from sklearn.linear_model import LogisticRegression"
   ]
  },
  {
   "cell_type": "code",
   "execution_count": 261,
   "id": "07e45cd3-6803-4d20-b187-4ea49aad1826",
   "metadata": {},
   "outputs": [
    {
     "name": "stderr",
     "output_type": "stream",
     "text": [
      "D:\\Anaconda\\lib\\site-packages\\sklearn\\linear_model\\_logistic.py:814: ConvergenceWarning: lbfgs failed to converge (status=1):\n",
      "STOP: TOTAL NO. of ITERATIONS REACHED LIMIT.\n",
      "\n",
      "Increase the number of iterations (max_iter) or scale the data as shown in:\n",
      "    https://scikit-learn.org/stable/modules/preprocessing.html\n",
      "Please also refer to the documentation for alternative solver options:\n",
      "    https://scikit-learn.org/stable/modules/linear_model.html#logistic-regression\n",
      "  n_iter_i = _check_optimize_result(\n"
     ]
    }
   ],
   "source": [
    "clf = LogisticRegression(random_state = 0).fit(X_train, y_train)"
   ]
  },
  {
   "cell_type": "code",
   "execution_count": 275,
   "id": "37c46efb-bc8c-4ec0-8cd0-4a314f427e1f",
   "metadata": {},
   "outputs": [],
   "source": [
    "y_pred = clf.predict(X_test)"
   ]
  },
  {
   "cell_type": "code",
   "execution_count": 278,
   "id": "683fd982-2c88-4b3d-914d-2158a8f15622",
   "metadata": {},
   "outputs": [
    {
     "data": {
      "text/plain": [
       "0.991262428442302"
      ]
     },
     "execution_count": 278,
     "metadata": {},
     "output_type": "execute_result"
    }
   ],
   "source": [
    "np.mean(y_pred == y_test)"
   ]
  },
  {
   "cell_type": "code",
   "execution_count": 281,
   "id": "2626d135-65d4-44b2-92f8-6bf8e0a6d678",
   "metadata": {},
   "outputs": [
    {
     "data": {
      "text/plain": [
       "0.991262428442302"
      ]
     },
     "execution_count": 281,
     "metadata": {},
     "output_type": "execute_result"
    }
   ],
   "source": [
    "np.mean(y_test == 0)"
   ]
  }
 ],
 "metadata": {
  "kernelspec": {
   "display_name": "Python 3 (ipykernel)",
   "language": "python",
   "name": "python3"
  },
  "language_info": {
   "codemirror_mode": {
    "name": "ipython",
    "version": 3
   },
   "file_extension": ".py",
   "mimetype": "text/x-python",
   "name": "python",
   "nbconvert_exporter": "python",
   "pygments_lexer": "ipython3",
   "version": "3.9.13"
  }
 },
 "nbformat": 4,
 "nbformat_minor": 5
}
